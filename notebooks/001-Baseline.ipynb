{
 "cells": [
  {
   "cell_type": "markdown",
   "metadata": {},
   "source": [
    "# Imports"
   ]
  },
  {
   "cell_type": "code",
   "execution_count": 1,
   "metadata": {},
   "outputs": [],
   "source": [
    "%load_ext autoreload\n",
    "%autoreload 2"
   ]
  },
  {
   "cell_type": "code",
   "execution_count": 2,
   "metadata": {},
   "outputs": [],
   "source": [
    "import sys\n",
    "if '..' not in sys.path:\n",
    "    sys.path.append('..')"
   ]
  },
  {
   "cell_type": "code",
   "execution_count": 71,
   "metadata": {},
   "outputs": [],
   "source": [
    "import pke\n",
    "import json\n",
    "import spacy\n",
    "from src.pdf_parser import Parser\n",
    "from pathlib import Path\n",
    "from tqdm.notebook import tqdm\n",
    "from gensim.models.fasttext import load_facebook_model\n",
    "from gensim.models.fasttext import FastText\n",
    "import compress_fasttext\n",
    "from sklearn.metrics.pairwise import cosine_similarity\n",
    "import numpy as np\n",
    "from dataclasses import dataclass"
   ]
  },
  {
   "cell_type": "markdown",
   "metadata": {},
   "source": [
    "# Parsing"
   ]
  },
  {
   "cell_type": "code",
   "execution_count": 9,
   "metadata": {},
   "outputs": [],
   "source": [
    "parser = Parser()"
   ]
  },
  {
   "cell_type": "code",
   "execution_count": 11,
   "metadata": {},
   "outputs": [],
   "source": [
    "docs = {}\n",
    "\n",
    "for x in tqdm(Path(\"../data/raw/ВМ.5503._Технологии баз данных/2019/Рабочие программы дисциплин\").rglob(\"*.*\")):\n",
    "    if x.suffix in [\".docx\", '.pdf']:\n",
    "        docs[x.stem] = parser.parse(x, ext=x.suffix[1:])"
   ]
  },
  {
   "cell_type": "code",
   "execution_count": null,
   "metadata": {},
   "outputs": [],
   "source": [
    "len(docs)"
   ]
  },
  {
   "cell_type": "markdown",
   "metadata": {},
   "source": [
    "# Keyword extraction"
   ]
  },
  {
   "cell_type": "code",
   "execution_count": 90,
   "metadata": {},
   "outputs": [],
   "source": [
    "model = spacy.load(\"../ru2/\")"
   ]
  },
  {
   "cell_type": "markdown",
   "metadata": {},
   "source": [
    "## РПД"
   ]
  },
  {
   "cell_type": "code",
   "execution_count": 92,
   "metadata": {},
   "outputs": [
    {
     "name": "stderr",
     "output_type": "stream",
     "text": [
      "100%|██████████| 39/39 [00:30<00:00,  1.27it/s]\n"
     ]
    }
   ],
   "source": [
    "rpd_keywords = {}\n",
    "\n",
    "for x in tqdm(docs):\n",
    "    extractor = pke.unsupervised.SingleRank()\n",
    "    extractor.load_document(input=docs[x], spacy_model=model)\n",
    "    extractor.candidate_selection()\n",
    "    extractor.candidate_weighting()\n",
    "    keyphrases = extractor.get_n_best(n=30)\n",
    "    rpd_keywords[x] = keyphrases"
   ]
  },
  {
   "cell_type": "code",
   "execution_count": 93,
   "metadata": {},
   "outputs": [
    {
     "data": {
      "text/plain": [
       "39"
      ]
     },
     "execution_count": 93,
     "metadata": {},
     "output_type": "execute_result"
    }
   ],
   "source": [
    "len(rpd_keywords)"
   ]
  },
  {
   "cell_type": "code",
   "execution_count": 95,
   "metadata": {},
   "outputs": [
    {
     "data": {
      "text/plain": [
       "dict_keys(['018999_Введение в искусственный интеллект', '001123_Методы статистической обработки информации', '001134_Машинное обучение', '001111_Современная философия и методология науки', '001117_История развития вычислительной техники и программирования (2)', '001136_Технологии специализированных баз данных для моделирования', '053719_Базы данных для геоинформационных систем_б', 'Ред. Проект РПД_адаптац. дисциплина_правильная_13.12.2018', '053720_Hadoop', '001115_Научно-исследовательская работа (курсовая работа)', '001112_Алгоритмические основы распознавания изображения_2018', '001114_Современные СУБД', '001113_Объектно-ориентированные CASE технологии', '001130_Алгоритмы и технологии анализа данных', '001125_Устойчивость движений дискретных динамических систем', '18_056866_Введение в блокчейн технологии_База', '001127_Информационный поиск в неструктурированных данных', '012978_Grid-технологии', '053715_Промышленные СУБД', '001131_Интеллектуальный анализ данных', '001119_НИПрактика_5503', '053716_Теория и практика больших данных_б', '018997_Оптимизация баз данных', '053717_Распределенные базы данных_б', '001122_Современные методологии разработки программного обеспечения', '001133_Базы знаний', 'РПД_058038_Введение в науку о данных_онлайн-курс', '058038_Введение в науку о данных_онлайн', 'РПД_Введение в науку о данных_онлайн', '043473_Методы организации и хранения данных_Б', '046871_Английский  язык', '001135_Объектно-ориентированные и распределенные базы данных', '001121_ Введение в задачи исследования систем', '001128_Администрирование систем управления базами данных', '018998_СУБД MS SQL Server', '001116_Java-программирование Internet-приложений_2018', '003834_Проектирование БД', '001129_Автоматизированные системы сбора и обработки информации', '053718_Введение в современные СУБД'])"
      ]
     },
     "execution_count": 95,
     "metadata": {},
     "output_type": "execute_result"
    }
   ],
   "source": [
    "rpd_keywords.keys()"
   ]
  },
  {
   "cell_type": "code",
   "execution_count": 96,
   "metadata": {},
   "outputs": [],
   "source": [
    "with open(\"../data/processed/tbd_keywords.json\", 'w') as file:\n",
    "    json.dump(rpd_keywords, file, indent=4, ensure_ascii=False)"
   ]
  },
  {
   "cell_type": "markdown",
   "metadata": {},
   "source": [
    "## Профстандарты"
   ]
  },
  {
   "cell_type": "code",
   "execution_count": 52,
   "metadata": {
    "ExecuteTime": {
     "end_time": "2020-10-27T23:11:13.038857Z",
     "start_time": "2020-10-27T23:11:12.588430Z"
    }
   },
   "outputs": [],
   "source": [
    "with open(\"../data/processed_standards/standards_text.json\") as file:\n",
    "    prof = json.load(file)"
   ]
  },
  {
   "cell_type": "code",
   "execution_count": 53,
   "metadata": {
    "ExecuteTime": {
     "end_time": "2020-10-27T23:13:28.013193Z",
     "start_time": "2020-10-27T23:13:28.009089Z"
    }
   },
   "outputs": [],
   "source": [
    "prof = {x['standard_name']:x['text'] for x in prof}"
   ]
  },
  {
   "cell_type": "code",
   "execution_count": 40,
   "metadata": {
    "ExecuteTime": {
     "end_time": "2020-10-27T23:40:23.247688Z",
     "start_time": "2020-10-27T23:14:40.107299Z"
    }
   },
   "outputs": [
    {
     "name": "stderr",
     "output_type": "stream",
     "text": [
      "100%|██████████| 1336/1336 [25:43<00:00,  1.16s/it]\n"
     ]
    }
   ],
   "source": [
    "prof_keywords = {}\n",
    "\n",
    "for x in tqdm(prof):\n",
    "    extractor = pke.unsupervised.SingleRank()\n",
    "    extractor.load_document(input=prof[x], spacy_model=model)\n",
    "    extractor.candidate_selection()\n",
    "    extractor.candidate_weighting()\n",
    "    keyphrases = extractor.get_n_best(n=30)\n",
    "    prof_keywords[x] = keyphrases"
   ]
  },
  {
   "cell_type": "code",
   "execution_count": null,
   "metadata": {},
   "outputs": [],
   "source": [
    "with open(\"../data/prof_keywords.json\", 'w') as file:\n",
    "    json.dump(prof_keywords, file, indent=4, ensure_ascii=False)"
   ]
  },
  {
   "cell_type": "markdown",
   "metadata": {},
   "source": [
    "# Similarity based on mean embeddings of keywords"
   ]
  },
  {
   "cell_type": "code",
   "execution_count": 12,
   "metadata": {},
   "outputs": [],
   "source": [
    "with open('../data/processed/tbd_keywords.json') as f:\n",
    "    rpd_keywords = json.load(f)\n",
    "    \n",
    "with open('../data/processed/prof_keywords.json') as f:\n",
    "    prof_keywords = json.load(f)"
   ]
  },
  {
   "cell_type": "code",
   "execution_count": 15,
   "metadata": {},
   "outputs": [],
   "source": [
    "model = compress_fasttext.models.CompressedFastTextKeyedVectors.load('../data/models/pruned_ft_500K.bin')\n",
    "# model = load_facebook_model('../data/models/pruned_ft_500K.bin')"
   ]
  },
  {
   "cell_type": "code",
   "execution_count": 100,
   "metadata": {},
   "outputs": [
    {
     "name": "stderr",
     "output_type": "stream",
     "text": [
      "100%|██████████| 39/39 [00:00<00:00, 66.16it/s]\n",
      "100%|██████████| 1336/1336 [00:44<00:00, 30.33it/s]\n"
     ]
    }
   ],
   "source": [
    "rpd_embeddings = {}\n",
    "for name in tqdm(rpd_keywords):\n",
    "    keywords = [keyword for (keyword, score) in rpd_keywords[name]]\n",
    "    embedding = model[keywords].mean(axis=0)\n",
    "    rpd_embeddings[name] = embedding\n",
    "    \n",
    "prof_embeddings = {}\n",
    "for name in tqdm(prof_keywords):\n",
    "    keywords = [keyword for (keyword, score) in prof_keywords[name]]\n",
    "    embedding = model[keywords].mean(axis=0)\n",
    "    prof_embeddings[name] = embedding"
   ]
  },
  {
   "cell_type": "code",
   "execution_count": 101,
   "metadata": {},
   "outputs": [
    {
     "data": {
      "text/plain": [
       "(39, 1336)"
      ]
     },
     "execution_count": 101,
     "metadata": {},
     "output_type": "execute_result"
    }
   ],
   "source": [
    "len(rpd_embeddings), len(prof_embeddings)"
   ]
  },
  {
   "cell_type": "code",
   "execution_count": 102,
   "metadata": {},
   "outputs": [],
   "source": [
    "import pickle\n",
    "\n",
    "with open('../data/processed/tbd_embeddings.pkl', 'wb') as f:\n",
    "    pickle.dump(rpd_embeddings, f)\n",
    "    \n",
    "with open('../data/processed/prof_embeddings.pkl', 'wb') as f:\n",
    "    pickle.dump(prof_embeddings, f)"
   ]
  },
  {
   "cell_type": "code",
   "execution_count": 103,
   "metadata": {},
   "outputs": [
    {
     "data": {
      "text/plain": [
       "('018999_Введение в искусственный интеллект',\n",
       " '001123_Методы статистической обработки информации',\n",
       " '001134_Машинное обучение',\n",
       " '001111_Современная философия и методология науки',\n",
       " '001117_История развития вычислительной техники и программирования (2)',\n",
       " '001136_Технологии специализированных баз данных для моделирования',\n",
       " '053719_Базы данных для геоинформационных систем_б',\n",
       " 'Ред. Проект РПД_адаптац. дисциплина_правильная_13.12.2018',\n",
       " '053720_Hadoop',\n",
       " '001115_Научно-исследовательская работа (курсовая работа)',\n",
       " '001112_Алгоритмические основы распознавания изображения_2018',\n",
       " '001114_Современные СУБД',\n",
       " '001113_Объектно-ориентированные CASE технологии',\n",
       " '001130_Алгоритмы и технологии анализа данных',\n",
       " '001125_Устойчивость движений дискретных динамических систем',\n",
       " '18_056866_Введение в блокчейн технологии_База',\n",
       " '001127_Информационный поиск в неструктурированных данных',\n",
       " '012978_Grid-технологии',\n",
       " '053715_Промышленные СУБД',\n",
       " '001131_Интеллектуальный анализ данных',\n",
       " '001119_НИПрактика_5503',\n",
       " '053716_Теория и практика больших данных_б',\n",
       " '018997_Оптимизация баз данных',\n",
       " '053717_Распределенные базы данных_б',\n",
       " '001122_Современные методологии разработки программного обеспечения',\n",
       " '001133_Базы знаний',\n",
       " 'РПД_058038_Введение в науку о данных_онлайн-курс',\n",
       " '058038_Введение в науку о данных_онлайн',\n",
       " 'РПД_Введение в науку о данных_онлайн',\n",
       " '043473_Методы организации и хранения данных_Б',\n",
       " '046871_Английский  язык',\n",
       " '001135_Объектно-ориентированные и распределенные базы данных',\n",
       " '001121_ Введение в задачи исследования систем',\n",
       " '001128_Администрирование систем управления базами данных',\n",
       " '018998_СУБД MS SQL Server',\n",
       " '001116_Java-программирование Internet-приложений_2018',\n",
       " '003834_Проектирование БД',\n",
       " '001129_Автоматизированные системы сбора и обработки информации',\n",
       " '053718_Введение в современные СУБД')"
      ]
     },
     "execution_count": 103,
     "metadata": {},
     "output_type": "execute_result"
    }
   ],
   "source": [
    "list(zip(*rpd_embeddings.items()))[0]"
   ]
  },
  {
   "cell_type": "markdown",
   "metadata": {},
   "source": [
    "# Similarity based on keyword mapping "
   ]
  },
  {
   "cell_type": "code",
   "execution_count": 72,
   "metadata": {},
   "outputs": [],
   "source": [
    "@dataclass\n",
    "class ProfStandard:\n",
    "    name: str\n",
    "    rank: int\n",
    "    rpds: dict\n",
    "\n",
    "\n",
    "def get_ranked_standards(rpd_keywords, prof_keywords, model, *, threshold=0.9):\n",
    "    res = []\n",
    "    for prof_name in tqdm(prof_keywords):\n",
    "        keywords1 = [keyword for (keyword, score) in prof_keywords[prof_name]]\n",
    "        prof_embeddings = model[keywords1]\n",
    "        prof_standard = ProfStandard(name=prof_name, rank=0, rpds={})\n",
    "        for rpd_name in rpd_keywords:\n",
    "            keywords2 = [keyword for (keyword, score) in rpd_keywords[rpd_name]]\n",
    "            rpd_embeddings = model[keywords2]\n",
    "            similarity_matrix = cosine_similarity(prof_embeddings, rpd_embeddings)\n",
    "            prof_idxs, rpd_idxs = np.where(similarity_matrix > threshold)\n",
    "            prof_standard.rank += len(prof_idxs)\n",
    "            prof_standard.rpds[rpd_name] = set([rpd_keywords[rpd_name][idx][0] for idx in rpd_idxs])\n",
    "        res.append(prof_standard)\n",
    "    return res"
   ]
  },
  {
   "cell_type": "code",
   "execution_count": 92,
   "metadata": {},
   "outputs": [
    {
     "data": {
      "application/vnd.jupyter.widget-view+json": {
       "model_id": "4d99f9d99d5a4b9da67addc97c0ba077",
       "version_major": 2,
       "version_minor": 0
      },
      "text/plain": [
       "HBox(children=(HTML(value=''), FloatProgress(value=0.0, max=1336.0), HTML(value='')))"
      ]
     },
     "metadata": {},
     "output_type": "display_data"
    },
    {
     "name": "stdout",
     "output_type": "stream",
     "text": [
      "\n"
     ]
    }
   ],
   "source": [
    "prof_ranks = get_ranked_standards(rpd_keywords, prof_keywords, model, threshold=0.9)"
   ]
  },
  {
   "cell_type": "code",
   "execution_count": 93,
   "metadata": {},
   "outputs": [
    {
     "data": {
      "text/plain": [
       "1336"
      ]
     },
     "execution_count": 93,
     "metadata": {},
     "output_type": "execute_result"
    }
   ],
   "source": [
    "len(prof_ranks)"
   ]
  },
  {
   "cell_type": "code",
   "execution_count": 94,
   "metadata": {},
   "outputs": [],
   "source": [
    "sorted_prof_ranks = sorted(prof_ranks, key=lambda item: item.rank, reverse=True)"
   ]
  },
  {
   "cell_type": "code",
   "execution_count": 95,
   "metadata": {},
   "outputs": [
    {
     "data": {
      "text/plain": [
       "{'018999_Введение в искусственный интеллект': {'характеристики специализированного программного обеспечения'},\n",
       " '001123_Методы статистической обработки информации': {'системное программное обеспечение общего назначения'},\n",
       " '001134_Машинное обучение': set(),\n",
       " '001111_Современная философия и методология науки': set(),\n",
       " '001117_История развития вычислительной техники и программирования (2)': {'история языков программирования'},\n",
       " '001136_Технологии специализированных баз данных для моделирования': set(),\n",
       " '053719_Базы данных для геоинформационных систем_б': set(),\n",
       " 'Ред. Проект РПД_адаптац. дисциплина_правильная_13.12.2018': set(),\n",
       " '053720_Hadoop': set(),\n",
       " '001115_Научно-исследовательская работа (курсовая работа)': set(),\n",
       " '001112_Алгоритмические основы распознавания изображения_2018': {'характеристики специализированного программного обеспечения'},\n",
       " '001114_Современные СУБД': {'овладения критериями выбора системы управления базами данных',\n",
       "  'стратегии выбора системы управления базами данных'},\n",
       " '001113_Объектно-ориентированные CASE технологии': {'средства разработки информационных систем',\n",
       "  'характеристики специализированного программного обеспечения'},\n",
       " '001130_Алгоритмы и технологии анализа данных': {'быстрая разработка программного обеспечения',\n",
       "  'навыки командной разработки технологий анализа данных',\n",
       "  'характеристики специализированного программного обеспечения'},\n",
       " '001125_Устойчивость движений дискретных динамических систем': {'синтеза стабилизирующих управлений дискретных динамических систем'},\n",
       " '18_056866_Введение в блокчейн технологии_База': set(),\n",
       " '001127_Информационный поиск в неструктурированных данных': set(),\n",
       " '012978_Grid-технологии': {'технологии управления ресурсами распределенных систем',\n",
       "  'характеристики специализированного программного обеспечения'},\n",
       " '053715_Промышленные СУБД': {'освоение студентами современной системы управления базы данных'},\n",
       " '001131_Интеллектуальный анализ данных': {'системах управления базами данных'},\n",
       " '001119_НИПрактика_5503': {'характеристики специализированного программного обеспечения'},\n",
       " '053716_Теория и практика больших данных_б': set(),\n",
       " '018997_Оптимизация баз данных': {'овладения критериями выбора системы управления базами данных',\n",
       "  'система управления базами данных'},\n",
       " '053717_Распределенные базы данных_б': {'изучение основ распределенных систем управления базами данных(рсубд',\n",
       "  'характеристики специализированного программного обеспечения'},\n",
       " '001122_Современные методологии разработки программного обеспечения': {'альтернативных методологий разработки программного обеспечения',\n",
       "  'разработка программного обеспечения',\n",
       "  'системное программное обеспечение общего назначения',\n",
       "  'современные методологии разработки программного обеспечения',\n",
       "  'технология разработки программного обеспечения',\n",
       "  'характеристики специализированного программного обеспечения'},\n",
       " '001133_Базы знаний': set(),\n",
       " 'РПД_058038_Введение в науку о данных_онлайн-курс': set(),\n",
       " '058038_Введение в науку о данных_онлайн': set(),\n",
       " 'РПД_Введение в науку о данных_онлайн': set(),\n",
       " '043473_Методы организации и хранения данных_Б': {'характеристики специализированного программного обеспечения'},\n",
       " '046871_Английский  язык': set(),\n",
       " '001135_Объектно-ориентированные и распределенные базы данных': {'ориентированных систем управления базами данных',\n",
       "  'характеристики специализированного программного обеспечения'},\n",
       " '001121_ Введение в задачи исследования систем': set(),\n",
       " '001128_Администрирование систем управления базами данных': {'администрирование систем управления базами данных'},\n",
       " '018998_СУБД MS SQL Server': {'изучение основ программирования объектов базы данных',\n",
       "  'освоение студентами современной системы управления базы данных промышленного масштаба'},\n",
       " '001116_Java-программирование Internet-приложений_2018': {'использованием языка программирования java'},\n",
       " '003834_Проектирование БД': {'овладения критериями выбора системы управления базами данных'},\n",
       " '001129_Автоматизированные системы сбора и обработки информации': {'автоматизированной обработки документов форматов',\n",
       "  'системное программное обеспечение общего назначения'},\n",
       " '053718_Введение в современные СУБД': {'овладения критериями выбора системы управления базами данных',\n",
       "  'современные системы управления базами данных'}}"
      ]
     },
     "execution_count": 95,
     "metadata": {},
     "output_type": "execute_result"
    }
   ],
   "source": [
    "sorted_prof_ranks[1].rpds"
   ]
  },
  {
   "cell_type": "code",
   "execution_count": 96,
   "metadata": {},
   "outputs": [
    {
     "name": "stdout",
     "output_type": "stream",
     "text": [
      "Руководитель разработки программного обеспечения 338\n",
      "Системный программист 267\n",
      "Программист 248\n",
      "Системный администратор информационно-коммуникационных систем 123\n",
      "Инженер-конструктор по динамике полета и управлению летательным аппаратом в ракетно-космической промышленности 111\n",
      "Специалист учебно-тренировочного подразделения атомной станции (технические средства обучения) 99\n",
      "Специалист по контролю качества информационно-коммуникационных систем 88\n",
      "Специалист по разработке системы управления полетами ракет-носителей  и космических аппаратов 80\n",
      "Архитектор программного обеспечения 78\n",
      "Специалист по наладке и испытаниям технологического оборудования механосборочного производства 75\n",
      "Специалист в области информационных технологий на атомных станциях (разработка и сопровождение программного обеспечения) 75\n",
      "Инженер-конструктор аналоговых сложнофункциональных блоков 71\n",
      "Специалист по проектированию и конструированию систем жизнеобеспечения, терморегулирования, агрегатов пневмогидравлических систем пилотируемых космических кораблей, станций и комплексов 70\n",
      "Специалист по защите информации в автоматизированных системах 69\n",
      "Специалист по организации и поддержке видеоуслуг через Интернет 67\n",
      "Специалист по обслуживанию телекоммуникаций 61\n",
      "Специалист в области проектирования автоматизированных систем управления технологическими процессами 61\n",
      "Специалист по применению геоинформационных систем и технологий для решения задач государственного и муниципального уровня 57\n",
      "Специалист по наладке и испытаниям технологического оборудования кузнечного производства 56\n",
      "Разработчик Web и мультимедийных приложений 56\n"
     ]
    }
   ],
   "source": [
    "for prof in sorted_prof_ranks[:20]:\n",
    "    print(prof.name, prof.rank)"
   ]
  },
  {
   "cell_type": "code",
   "execution_count": null,
   "metadata": {},
   "outputs": [],
   "source": []
  },
  {
   "cell_type": "code",
   "execution_count": null,
   "metadata": {},
   "outputs": [],
   "source": []
  }
 ],
 "metadata": {
  "kernelspec": {
   "display_name": "prof_proof",
   "language": "python",
   "name": "prof_proof"
  },
  "toc": {
   "base_numbering": 1,
   "nav_menu": {},
   "number_sections": true,
   "sideBar": true,
   "skip_h1_title": false,
   "title_cell": "Table of Contents",
   "title_sidebar": "Contents",
   "toc_cell": false,
   "toc_position": {},
   "toc_section_display": true,
   "toc_window_display": true
  },
  "varInspector": {
   "cols": {
    "lenName": 16,
    "lenType": 16,
    "lenVar": 40
   },
   "kernels_config": {
    "python": {
     "delete_cmd_postfix": "",
     "delete_cmd_prefix": "del ",
     "library": "var_list.py",
     "varRefreshCmd": "print(var_dic_list())"
    },
    "r": {
     "delete_cmd_postfix": ") ",
     "delete_cmd_prefix": "rm(",
     "library": "var_list.r",
     "varRefreshCmd": "cat(var_dic_list()) "
    }
   },
   "position": {
    "height": "307px",
    "left": "1550px",
    "right": "20px",
    "top": "120px",
    "width": "350px"
   },
   "types_to_exclude": [
    "module",
    "function",
    "builtin_function_or_method",
    "instance",
    "_Feature"
   ],
   "window_display": true
  }
 },
 "nbformat": 4,
 "nbformat_minor": 4
}
